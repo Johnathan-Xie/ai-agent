{
 "cells": [
  {
   "cell_type": "code",
   "execution_count": 4,
   "metadata": {},
   "outputs": [
    {
     "name": "stdout",
     "output_type": "stream",
     "text": [
      "<?xml version=\"1.0\" encoding=\"UTF-8\"?>\n",
      "<feed xmlns=\"http://www.w3.org/2005/Atom\">\n",
      "  <link href=\"http://arxiv.org/api/query?search_query%3Dml%26id_list%3D%26start%3D0%26max_results%3D1\" rel=\"self\" type=\"application/atom+xml\"/>\n",
      "  <title type=\"html\">ArXiv Query: search_query=ml&amp;id_list=&amp;start=0&amp;max_results=1</title>\n",
      "  <id>http://arxiv.org/api/eMZuuUSfr5mYQvem5/p3IhVoRTA</id>\n",
      "  <updated>2025-02-18T00:00:00-05:00</updated>\n",
      "  <opensearch:totalResults xmlns:opensearch=\"http://a9.com/-/spec/opensearch/1.1/\">14044</opensearch:totalResults>\n",
      "  <opensearch:startIndex xmlns:opensearch=\"http://a9.com/-/spec/opensearch/1.1/\">0</opensearch:startIndex>\n",
      "  <opensearch:itemsPerPage xmlns:opensearch=\"http://a9.com/-/spec/opensearch/1.1/\">1</opensearch:itemsPerPage>\n",
      "  <entry>\n",
      "    <id>http://arxiv.org/abs/2211.05075v1</id>\n",
      "    <updated>2022-11-09T18:07:10Z</updated>\n",
      "    <published>2022-11-09T18:07:10Z</published>\n",
      "    <title>Supporting AI/ML Security Workers through an Adversarial Techniques,\n",
      "  Tools, and Common Knowledge (AI/ML ATT&amp;CK) Framework</title>\n",
      "    <summary>  This paper focuses on supporting AI/ML Security Workers -- professionals\n",
      "involved in the development and deployment of secure AI-enabled software\n",
      "systems. It presents AI/ML Adversarial Techniques, Tools, and Common Knowledge\n",
      "(AI/ML ATT&amp;CK) framework to enable AI/ML Security Workers intuitively to\n",
      "explore offensive and defensive tactics.\n",
      "</summary>\n",
      "    <author>\n",
      "      <name>Mohamad Fazelnia</name>\n",
      "    </author>\n",
      "    <author>\n",
      "      <name>Ahmet Okutan</name>\n",
      "    </author>\n",
      "    <author>\n",
      "      <name>Mehdi Mirakhorli</name>\n",
      "    </author>\n",
      "    <arxiv:comment xmlns:arxiv=\"http://arxiv.org/schemas/atom\">AI/ML ATT&amp;CK</arxiv:comment>\n",
      "    <link href=\"http://arxiv.org/abs/2211.05075v1\" rel=\"alternate\" type=\"text/html\"/>\n",
      "    <link title=\"pdf\" href=\"http://arxiv.org/pdf/2211.05075v1\" rel=\"related\" type=\"application/pdf\"/>\n",
      "    <arxiv:primary_category xmlns:arxiv=\"http://arxiv.org/schemas/atom\" term=\"cs.CR\" scheme=\"http://arxiv.org/schemas/atom\"/>\n",
      "    <category term=\"cs.CR\" scheme=\"http://arxiv.org/schemas/atom\"/>\n",
      "  </entry>\n",
      "</feed>\n",
      "\n"
     ]
    }
   ],
   "source": [
    "import urllib, urllib.request\n",
    "url = 'http://export.arxiv.org/api/query?search_query=ml&start=0&max_results=1'\n",
    "data = urllib.request.urlopen(url)\n",
    "print(data.read().decode('utf-8'))"
   ]
  },
  {
   "cell_type": "code",
   "execution_count": null,
   "metadata": {},
   "outputs": [],
   "source": []
  }
 ],
 "metadata": {
  "kernelspec": {
   "display_name": "discord_bot",
   "language": "python",
   "name": "python3"
  },
  "language_info": {
   "codemirror_mode": {
    "name": "ipython",
    "version": 3
   },
   "file_extension": ".py",
   "mimetype": "text/x-python",
   "name": "python",
   "nbconvert_exporter": "python",
   "pygments_lexer": "ipython3",
   "version": "3.13.1"
  }
 },
 "nbformat": 4,
 "nbformat_minor": 2
}
